{
 "cells": [
  {
   "cell_type": "markdown",
   "metadata": {},
   "source": [
    "# Reading Data Into Python and Creating Analysis File"
   ]
  },
  {
   "cell_type": "markdown",
   "metadata": {},
   "source": [
    "The goal of this project is to take narrative complaints from the CFPB complaint intake form and predict whether or not the complaint will be closed (either generally or with an explanation) versus the customer receiving relief. \n",
    "\n",
    "Initial exploration will consider an aggregate of all complaints in all states/time periods. The inputs will be the product, sub-product, consumer complaint narrative, company, state\n",
    "\n",
    "possible things to take into account: recency (should more recent complaints get more weight than older complaints); somehow take into account whether a consumer disputed the outcome\n",
    "\n",
    "maybe build several models that are representative then use some sort of model averaging?: maybe look at this: https://docs.pymc.io/notebooks/model_averaging.html"
   ]
  },
  {
   "cell_type": "code",
   "execution_count": 28,
   "metadata": {},
   "outputs": [],
   "source": [
    "import pandas as pd\n",
    "import numpy as np\n",
    "import keras\n",
    "import nltk\n",
    "import re\n",
    "import codecs\n",
    "import matplotlib.pyplot as plt\n",
    "from matplotlib.ticker import MaxNLocator\n",
    "from collections import namedtuple"
   ]
  },
  {
   "cell_type": "code",
   "execution_count": 29,
   "metadata": {},
   "outputs": [],
   "source": [
    "cfpb=pd.read_csv(\"Consumer_Complaints.csv\")"
   ]
  },
  {
   "cell_type": "code",
   "execution_count": 30,
   "metadata": {},
   "outputs": [
    {
     "data": {
      "text/html": [
       "<div>\n",
       "<style scoped>\n",
       "    .dataframe tbody tr th:only-of-type {\n",
       "        vertical-align: middle;\n",
       "    }\n",
       "\n",
       "    .dataframe tbody tr th {\n",
       "        vertical-align: top;\n",
       "    }\n",
       "\n",
       "    .dataframe thead th {\n",
       "        text-align: right;\n",
       "    }\n",
       "</style>\n",
       "<table border=\"1\" class=\"dataframe\">\n",
       "  <thead>\n",
       "    <tr style=\"text-align: right;\">\n",
       "      <th></th>\n",
       "      <th>Date received</th>\n",
       "      <th>Product</th>\n",
       "      <th>Sub-product</th>\n",
       "      <th>Issue</th>\n",
       "      <th>Sub-issue</th>\n",
       "      <th>Consumer complaint narrative</th>\n",
       "      <th>Company public response</th>\n",
       "      <th>Company</th>\n",
       "      <th>State</th>\n",
       "      <th>ZIP code</th>\n",
       "      <th>Tags</th>\n",
       "      <th>Consumer consent provided?</th>\n",
       "      <th>Submitted via</th>\n",
       "      <th>Date sent to company</th>\n",
       "      <th>Company response to consumer</th>\n",
       "      <th>Timely response?</th>\n",
       "      <th>Consumer disputed?</th>\n",
       "      <th>Complaint ID</th>\n",
       "    </tr>\n",
       "  </thead>\n",
       "  <tbody>\n",
       "    <tr>\n",
       "      <th>0</th>\n",
       "      <td>01/16/2019</td>\n",
       "      <td>Credit reporting, credit repair services, or o...</td>\n",
       "      <td>Credit reporting</td>\n",
       "      <td>Improper use of your report</td>\n",
       "      <td>Reporting company used your report improperly</td>\n",
       "      <td>NaN</td>\n",
       "      <td>NaN</td>\n",
       "      <td>Diversified Consultants, Inc.</td>\n",
       "      <td>PA</td>\n",
       "      <td>18301</td>\n",
       "      <td>NaN</td>\n",
       "      <td>NaN</td>\n",
       "      <td>Web</td>\n",
       "      <td>01/16/2019</td>\n",
       "      <td>In progress</td>\n",
       "      <td>Yes</td>\n",
       "      <td>NaN</td>\n",
       "      <td>3126392</td>\n",
       "    </tr>\n",
       "    <tr>\n",
       "      <th>1</th>\n",
       "      <td>01/16/2019</td>\n",
       "      <td>Debt collection</td>\n",
       "      <td>Other debt</td>\n",
       "      <td>Written notification about debt</td>\n",
       "      <td>Didn't receive notice of right to dispute</td>\n",
       "      <td>NaN</td>\n",
       "      <td>NaN</td>\n",
       "      <td>Diversified Consultants, Inc.</td>\n",
       "      <td>TX</td>\n",
       "      <td>78130</td>\n",
       "      <td>NaN</td>\n",
       "      <td>NaN</td>\n",
       "      <td>Web</td>\n",
       "      <td>01/16/2019</td>\n",
       "      <td>In progress</td>\n",
       "      <td>Yes</td>\n",
       "      <td>NaN</td>\n",
       "      <td>3126504</td>\n",
       "    </tr>\n",
       "    <tr>\n",
       "      <th>2</th>\n",
       "      <td>01/16/2019</td>\n",
       "      <td>Mortgage</td>\n",
       "      <td>Conventional home mortgage</td>\n",
       "      <td>Struggling to pay mortgage</td>\n",
       "      <td>NaN</td>\n",
       "      <td>NaN</td>\n",
       "      <td>NaN</td>\n",
       "      <td>BAYVIEW LOAN SERVICING, LLC</td>\n",
       "      <td>TN</td>\n",
       "      <td>377XX</td>\n",
       "      <td>NaN</td>\n",
       "      <td>Other</td>\n",
       "      <td>Web</td>\n",
       "      <td>01/16/2019</td>\n",
       "      <td>In progress</td>\n",
       "      <td>Yes</td>\n",
       "      <td>NaN</td>\n",
       "      <td>3126744</td>\n",
       "    </tr>\n",
       "    <tr>\n",
       "      <th>3</th>\n",
       "      <td>01/16/2019</td>\n",
       "      <td>Checking or savings account</td>\n",
       "      <td>Checking account</td>\n",
       "      <td>Closing an account</td>\n",
       "      <td>Company closed your account</td>\n",
       "      <td>NaN</td>\n",
       "      <td>NaN</td>\n",
       "      <td>NAVY FEDERAL CREDIT UNION</td>\n",
       "      <td>NC</td>\n",
       "      <td>282XX</td>\n",
       "      <td>NaN</td>\n",
       "      <td>NaN</td>\n",
       "      <td>Web</td>\n",
       "      <td>01/16/2019</td>\n",
       "      <td>In progress</td>\n",
       "      <td>Yes</td>\n",
       "      <td>NaN</td>\n",
       "      <td>3126534</td>\n",
       "    </tr>\n",
       "    <tr>\n",
       "      <th>4</th>\n",
       "      <td>01/16/2019</td>\n",
       "      <td>Payday loan, title loan, or personal loan</td>\n",
       "      <td>Payday loan</td>\n",
       "      <td>Struggling to pay your loan</td>\n",
       "      <td>NaN</td>\n",
       "      <td>NaN</td>\n",
       "      <td>Company believes it acted appropriately as aut...</td>\n",
       "      <td>BlueChip Financial</td>\n",
       "      <td>FL</td>\n",
       "      <td>NaN</td>\n",
       "      <td>NaN</td>\n",
       "      <td>NaN</td>\n",
       "      <td>Web</td>\n",
       "      <td>01/16/2019</td>\n",
       "      <td>Closed with explanation</td>\n",
       "      <td>Yes</td>\n",
       "      <td>NaN</td>\n",
       "      <td>3125859</td>\n",
       "    </tr>\n",
       "  </tbody>\n",
       "</table>\n",
       "</div>"
      ],
      "text/plain": [
       "  Date received                                            Product  \\\n",
       "0    01/16/2019  Credit reporting, credit repair services, or o...   \n",
       "1    01/16/2019                                    Debt collection   \n",
       "2    01/16/2019                                           Mortgage   \n",
       "3    01/16/2019                        Checking or savings account   \n",
       "4    01/16/2019          Payday loan, title loan, or personal loan   \n",
       "\n",
       "                  Sub-product                            Issue  \\\n",
       "0            Credit reporting      Improper use of your report   \n",
       "1                  Other debt  Written notification about debt   \n",
       "2  Conventional home mortgage       Struggling to pay mortgage   \n",
       "3            Checking account               Closing an account   \n",
       "4                 Payday loan      Struggling to pay your loan   \n",
       "\n",
       "                                       Sub-issue Consumer complaint narrative  \\\n",
       "0  Reporting company used your report improperly                          NaN   \n",
       "1      Didn't receive notice of right to dispute                          NaN   \n",
       "2                                            NaN                          NaN   \n",
       "3                    Company closed your account                          NaN   \n",
       "4                                            NaN                          NaN   \n",
       "\n",
       "                             Company public response  \\\n",
       "0                                                NaN   \n",
       "1                                                NaN   \n",
       "2                                                NaN   \n",
       "3                                                NaN   \n",
       "4  Company believes it acted appropriately as aut...   \n",
       "\n",
       "                         Company State ZIP code Tags  \\\n",
       "0  Diversified Consultants, Inc.    PA    18301  NaN   \n",
       "1  Diversified Consultants, Inc.    TX    78130  NaN   \n",
       "2    BAYVIEW LOAN SERVICING, LLC    TN    377XX  NaN   \n",
       "3      NAVY FEDERAL CREDIT UNION    NC    282XX  NaN   \n",
       "4             BlueChip Financial    FL      NaN  NaN   \n",
       "\n",
       "  Consumer consent provided? Submitted via Date sent to company  \\\n",
       "0                        NaN           Web           01/16/2019   \n",
       "1                        NaN           Web           01/16/2019   \n",
       "2                      Other           Web           01/16/2019   \n",
       "3                        NaN           Web           01/16/2019   \n",
       "4                        NaN           Web           01/16/2019   \n",
       "\n",
       "  Company response to consumer Timely response? Consumer disputed?  \\\n",
       "0                  In progress              Yes                NaN   \n",
       "1                  In progress              Yes                NaN   \n",
       "2                  In progress              Yes                NaN   \n",
       "3                  In progress              Yes                NaN   \n",
       "4      Closed with explanation              Yes                NaN   \n",
       "\n",
       "   Complaint ID  \n",
       "0       3126392  \n",
       "1       3126504  \n",
       "2       3126744  \n",
       "3       3126534  \n",
       "4       3125859  "
      ]
     },
     "execution_count": 30,
     "metadata": {},
     "output_type": "execute_result"
    }
   ],
   "source": [
    "cfpb.head()"
   ]
  },
  {
   "cell_type": "code",
   "execution_count": 31,
   "metadata": {},
   "outputs": [],
   "source": [
    "cfpb=cfpb.rename(index=str, columns={\"Date received\":\"date_rec\", \"Product\": \"prod\", \"Sub-product\": \"subprod\", \n",
    "                                     \"Issue\":\"issue\", \"Sub-issue\": \"sub_issue\", \"Consumer complaint narrative\": \n",
    "                                     \"narrative\", \"Company public response\":\"pub_resp\", \"Company\": \"company\", \n",
    "                                      \"State\": \"state\", \"ZIP code\": \"zip\", \"Consumer consent provided?\": \"consent\",\n",
    "                                      \"Submitted via\":\"how_submit\", \"Date sent to company\": \"date_to_company\", \n",
    "                                      \"Company response to consumer\":\"comp_resp\", \"Timely response?\":\"timely_resp\",\n",
    "                                      \"Consumer disputed?\":\"cons_disp\", \"Complaint ID\":\"id\"})"
   ]
  },
  {
   "cell_type": "code",
   "execution_count": 35,
   "metadata": {},
   "outputs": [
    {
     "data": {
      "text/plain": [
       "(1199558, 18)"
      ]
     },
     "execution_count": 35,
     "metadata": {},
     "output_type": "execute_result"
    }
   ],
   "source": [
    "cfpb.shape"
   ]
  },
  {
   "cell_type": "code",
   "execution_count": 32,
   "metadata": {},
   "outputs": [],
   "source": [
    "#put narrative in double quotes to escape , for csv\n",
    "cfpb.narrative=\"\\\"\" + cfpb.narrative + \"\\\"\""
   ]
  },
  {
   "cell_type": "code",
   "execution_count": null,
   "metadata": {},
   "outputs": [],
   "source": []
  },
  {
   "cell_type": "code",
   "execution_count": 34,
   "metadata": {},
   "outputs": [],
   "source": [
    "#subset data to get only those complaints and work with this first\n",
    "complaints=cfpb[cfpb.narrative.notnull()]\n",
    "complaints.shape\n",
    "nonar=cfpb[cfpb['narrative'].isnull()]\n",
    "nonar.shape\n",
    "\n",
    "#write both to CSV to avoid problems with chaining later\n",
    "complaints.to_csv('narratives.csv')\n",
    "nonar.to_csv('nonarratives.csv')"
   ]
  },
  {
   "cell_type": "code",
   "execution_count": 24,
   "metadata": {},
   "outputs": [
    {
     "data": {
      "text/plain": [
       "date_rec                0\n",
       "prod                    0\n",
       "subprod             52173\n",
       "issue                   0\n",
       "sub_issue          110239\n",
       "narrative               0\n",
       "pub_resp           185652\n",
       "company                 0\n",
       "state                1357\n",
       "zip                 79473\n",
       "Tags               297224\n",
       "consent                 0\n",
       "how_submit              0\n",
       "date_to_company         0\n",
       "comp_resp               4\n",
       "timely_resp             0\n",
       "cons_disp          195125\n",
       "id                      0\n",
       "dtype: int64"
      ]
     },
     "execution_count": 24,
     "metadata": {},
     "output_type": "execute_result"
    }
   ],
   "source": [
    "#check to see how much missing data there is in other columns\n",
    "complaints.isna().sum()"
   ]
  },
  {
   "cell_type": "code",
   "execution_count": 25,
   "metadata": {},
   "outputs": [
    {
     "data": {
      "text/plain": [
       "Closed with explanation            289812\n",
       "Closed with non-monetary relief     42580\n",
       "Closed with monetary relief         20566\n",
       "Closed                               3741\n",
       "Untimely response                    2506\n",
       "Name: comp_resp, dtype: int64"
      ]
     },
     "execution_count": 25,
     "metadata": {},
     "output_type": "execute_result"
    }
   ],
   "source": [
    "#date_rec, product, issue, company, consent, how_submit, date_to_company, timely_resp, and id have no missing\n",
    "#need to look at possible values of comp_resp and cons_disp\n",
    "complaints['comp_resp'].value_counts()"
   ]
  },
  {
   "cell_type": "code",
   "execution_count": 8,
   "metadata": {},
   "outputs": [
    {
     "data": {
      "text/plain": [
       "No     128277\n",
       "Yes     35807\n",
       "Name: cons_disp, dtype: int64"
      ]
     },
     "execution_count": 8,
     "metadata": {},
     "output_type": "execute_result"
    }
   ],
   "source": [
    "complaints['cons_disp'].value_counts()"
   ]
  },
  {
   "cell_type": "code",
   "execution_count": 9,
   "metadata": {},
   "outputs": [
    {
     "data": {
      "text/plain": [
       "CA                                      48652\n",
       "FL                                      34638\n",
       "TX                                      34228\n",
       "GA                                      20859\n",
       "NY                                      20382\n",
       "IL                                      14042\n",
       "PA                                      12478\n",
       "NJ                                      11920\n",
       "NC                                      11607\n",
       "OH                                      10861\n",
       "VA                                      10017\n",
       "MD                                       9910\n",
       "MI                                       8199\n",
       "AZ                                       8076\n",
       "TN                                       6898\n",
       "WA                                       6811\n",
       "MA                                       6348\n",
       "CO                                       5741\n",
       "MO                                       5673\n",
       "SC                                       5512\n",
       "NV                                       5019\n",
       "LA                                       4934\n",
       "AL                                       4776\n",
       "IN                                       4454\n",
       "MN                                       3888\n",
       "CT                                       3645\n",
       "OR                                       3451\n",
       "WI                                       3427\n",
       "KY                                       2625\n",
       "UT                                       2540\n",
       "                                        ...  \n",
       "DC                                       1978\n",
       "KS                                       1802\n",
       "NM                                       1753\n",
       "DE                                       1679\n",
       "IA                                       1371\n",
       "ID                                       1118\n",
       "HI                                       1116\n",
       "NH                                       1091\n",
       "NE                                       1089\n",
       "ME                                        967\n",
       "WV                                        874\n",
       "RI                                        869\n",
       "PR                                        701\n",
       "MT                                        623\n",
       "ND                                        517\n",
       "SD                                        441\n",
       "AK                                        423\n",
       "VT                                        358\n",
       "WY                                        307\n",
       "AE                                        158\n",
       "AP                                        125\n",
       "GU                                         76\n",
       "FM                                         54\n",
       "VI                                         41\n",
       "UNITED STATES MINOR OUTLYING ISLANDS       16\n",
       "AA                                          9\n",
       "MP                                          7\n",
       "AS                                          6\n",
       "MH                                          2\n",
       "PW                                          1\n",
       "Name: state, Length: 63, dtype: int64"
      ]
     },
     "execution_count": 9,
     "metadata": {},
     "output_type": "execute_result"
    }
   ],
   "source": [
    "#a lot are missing for cons_dispute--could create a flag for \"unknown\" to include here\n",
    "#look at geographic distribution\n",
    "complaints['state'].value_counts()"
   ]
  },
  {
   "cell_type": "code",
   "execution_count": 10,
   "metadata": {},
   "outputs": [],
   "source": [
    "#some of these are really rare: PW (Palau), MH (Majuro). Out of the 50 states + Puerto Rico, the state with the least \n",
    "#amount of complaints is Wyoming, which follows from how populous the states are. The states towards the top and bottom\n",
    "#roughly represent what we know about the spread of the US population. "
   ]
  }
 ],
 "metadata": {
  "kernelspec": {
   "display_name": "Python 3",
   "language": "python",
   "name": "python3"
  },
  "language_info": {
   "codemirror_mode": {
    "name": "ipython",
    "version": 3
   },
   "file_extension": ".py",
   "mimetype": "text/x-python",
   "name": "python",
   "nbconvert_exporter": "python",
   "pygments_lexer": "ipython3",
   "version": "3.6.8"
  }
 },
 "nbformat": 4,
 "nbformat_minor": 2
}
