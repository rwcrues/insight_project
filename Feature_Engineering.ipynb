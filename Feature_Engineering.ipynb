{
 "cells": [
  {
   "cell_type": "markdown",
   "metadata": {},
   "source": [
    "# Feature Engineering"
   ]
  },
  {
   "cell_type": "code",
   "execution_count": 1,
   "metadata": {},
   "outputs": [
    {
     "name": "stderr",
     "output_type": "stream",
     "text": [
      "Using TensorFlow backend.\n"
     ]
    }
   ],
   "source": [
    "import pandas as pd\n",
    "import numpy as np\n",
    "import keras\n",
    "import nltk\n",
    "import re\n",
    "import codecs\n",
    "import vaderSentiment\n",
    "import matplotlib.pyplot as plt\n",
    "from matplotlib.ticker import MaxNLocator\n",
    "from collections import namedtuple"
   ]
  },
  {
   "cell_type": "code",
   "execution_count": 2,
   "metadata": {},
   "outputs": [
    {
     "name": "stderr",
     "output_type": "stream",
     "text": [
      "/home/wescrues/anaconda3/envs/insight/lib/python3.6/site-packages/IPython/core/interactiveshell.py:3020: DtypeWarning: Columns (17) have mixed types. Specify dtype option on import or set low_memory=False.\n",
      "  interactivity=interactivity, compiler=compiler, result=result)\n"
     ]
    }
   ],
   "source": [
    "#read in narrative file\n",
    "nars=pd.read_csv(\"narratives.csv\",index_col=0)"
   ]
  },
  {
   "cell_type": "code",
   "execution_count": 3,
   "metadata": {},
   "outputs": [
    {
     "data": {
      "text/html": [
       "<div>\n",
       "<style scoped>\n",
       "    .dataframe tbody tr th:only-of-type {\n",
       "        vertical-align: middle;\n",
       "    }\n",
       "\n",
       "    .dataframe tbody tr th {\n",
       "        vertical-align: top;\n",
       "    }\n",
       "\n",
       "    .dataframe thead th {\n",
       "        text-align: right;\n",
       "    }\n",
       "</style>\n",
       "<table border=\"1\" class=\"dataframe\">\n",
       "  <thead>\n",
       "    <tr style=\"text-align: right;\">\n",
       "      <th></th>\n",
       "      <th>date_rec</th>\n",
       "      <th>prod</th>\n",
       "      <th>subprod</th>\n",
       "      <th>issue</th>\n",
       "      <th>sub_issue</th>\n",
       "      <th>narrative</th>\n",
       "      <th>pub_resp</th>\n",
       "      <th>company</th>\n",
       "      <th>state</th>\n",
       "      <th>zip</th>\n",
       "      <th>Tags</th>\n",
       "      <th>consent</th>\n",
       "      <th>how_submit</th>\n",
       "      <th>date_to_company</th>\n",
       "      <th>comp_resp</th>\n",
       "      <th>timely_resp</th>\n",
       "      <th>cons_disp</th>\n",
       "      <th>id</th>\n",
       "    </tr>\n",
       "  </thead>\n",
       "  <tbody>\n",
       "    <tr>\n",
       "      <th>177</th>\n",
       "      <td>01/11/2019</td>\n",
       "      <td>Mortgage</td>\n",
       "      <td>Conventional home mortgage</td>\n",
       "      <td>Applying for a mortgage or refinancing an exis...</td>\n",
       "      <td>NaN</td>\n",
       "      <td>\"Wells Fargo is charging me an exorbitant amou...</td>\n",
       "      <td>Company has responded to the consumer and the ...</td>\n",
       "      <td>WELLS FARGO &amp; COMPANY</td>\n",
       "      <td>CA</td>\n",
       "      <td>90016</td>\n",
       "      <td>NaN</td>\n",
       "      <td>Consent provided</td>\n",
       "      <td>Web</td>\n",
       "      <td>01/11/2019</td>\n",
       "      <td>Closed with explanation</td>\n",
       "      <td>Yes</td>\n",
       "      <td>NaN</td>\n",
       "      <td>3122170</td>\n",
       "    </tr>\n",
       "    <tr>\n",
       "      <th>186</th>\n",
       "      <td>01/11/2019</td>\n",
       "      <td>Mortgage</td>\n",
       "      <td>Conventional home mortgage</td>\n",
       "      <td>Applying for a mortgage or refinancing an exis...</td>\n",
       "      <td>NaN</td>\n",
       "      <td>\"I have filed several complaints against Wells...</td>\n",
       "      <td>Company has responded to the consumer and the ...</td>\n",
       "      <td>WELLS FARGO &amp; COMPANY</td>\n",
       "      <td>CA</td>\n",
       "      <td>90016</td>\n",
       "      <td>NaN</td>\n",
       "      <td>Consent provided</td>\n",
       "      <td>Web</td>\n",
       "      <td>01/11/2019</td>\n",
       "      <td>Closed with explanation</td>\n",
       "      <td>Yes</td>\n",
       "      <td>NaN</td>\n",
       "      <td>3122004</td>\n",
       "    </tr>\n",
       "    <tr>\n",
       "      <th>188</th>\n",
       "      <td>01/11/2019</td>\n",
       "      <td>Credit reporting, credit repair services, or o...</td>\n",
       "      <td>Credit reporting</td>\n",
       "      <td>Improper use of your report</td>\n",
       "      <td>Credit inquiries on your report that you don't...</td>\n",
       "      <td>\"Negative remark on my report that I don't rec...</td>\n",
       "      <td>Company has responded to the consumer and the ...</td>\n",
       "      <td>HCFS Health Care Financial Services, Inc.</td>\n",
       "      <td>FL</td>\n",
       "      <td>330XX</td>\n",
       "      <td>Servicemember</td>\n",
       "      <td>Consent provided</td>\n",
       "      <td>Web</td>\n",
       "      <td>01/11/2019</td>\n",
       "      <td>Closed with explanation</td>\n",
       "      <td>Yes</td>\n",
       "      <td>NaN</td>\n",
       "      <td>3122533</td>\n",
       "    </tr>\n",
       "    <tr>\n",
       "      <th>189</th>\n",
       "      <td>01/11/2019</td>\n",
       "      <td>Debt collection</td>\n",
       "      <td>Other debt</td>\n",
       "      <td>Attempts to collect debt not owed</td>\n",
       "      <td>Debt is not yours</td>\n",
       "      <td>\"On XX/XX/2016, this debt for {$160.00} appear...</td>\n",
       "      <td>Company believes it acted appropriately as aut...</td>\n",
       "      <td>Penn Credit Corporation</td>\n",
       "      <td>GA</td>\n",
       "      <td>302XX</td>\n",
       "      <td>NaN</td>\n",
       "      <td>Consent provided</td>\n",
       "      <td>Web</td>\n",
       "      <td>01/11/2019</td>\n",
       "      <td>Closed with explanation</td>\n",
       "      <td>Yes</td>\n",
       "      <td>NaN</td>\n",
       "      <td>3122250</td>\n",
       "    </tr>\n",
       "    <tr>\n",
       "      <th>195</th>\n",
       "      <td>01/11/2019</td>\n",
       "      <td>Mortgage</td>\n",
       "      <td>VA mortgage</td>\n",
       "      <td>Trouble during payment process</td>\n",
       "      <td>NaN</td>\n",
       "      <td>\"My mortgage was with XXXX and was sold to Fla...</td>\n",
       "      <td>Company has responded to the consumer and the ...</td>\n",
       "      <td>FLAGSTAR BANK, FSB</td>\n",
       "      <td>WA</td>\n",
       "      <td>983XX</td>\n",
       "      <td>Servicemember</td>\n",
       "      <td>Consent provided</td>\n",
       "      <td>Web</td>\n",
       "      <td>01/11/2019</td>\n",
       "      <td>Closed with explanation</td>\n",
       "      <td>Yes</td>\n",
       "      <td>NaN</td>\n",
       "      <td>3122028</td>\n",
       "    </tr>\n",
       "  </tbody>\n",
       "</table>\n",
       "</div>"
      ],
      "text/plain": [
       "       date_rec                                               prod  \\\n",
       "177  01/11/2019                                           Mortgage   \n",
       "186  01/11/2019                                           Mortgage   \n",
       "188  01/11/2019  Credit reporting, credit repair services, or o...   \n",
       "189  01/11/2019                                    Debt collection   \n",
       "195  01/11/2019                                           Mortgage   \n",
       "\n",
       "                        subprod  \\\n",
       "177  Conventional home mortgage   \n",
       "186  Conventional home mortgage   \n",
       "188            Credit reporting   \n",
       "189                  Other debt   \n",
       "195                 VA mortgage   \n",
       "\n",
       "                                                 issue  \\\n",
       "177  Applying for a mortgage or refinancing an exis...   \n",
       "186  Applying for a mortgage or refinancing an exis...   \n",
       "188                        Improper use of your report   \n",
       "189                  Attempts to collect debt not owed   \n",
       "195                     Trouble during payment process   \n",
       "\n",
       "                                             sub_issue  \\\n",
       "177                                                NaN   \n",
       "186                                                NaN   \n",
       "188  Credit inquiries on your report that you don't...   \n",
       "189                                  Debt is not yours   \n",
       "195                                                NaN   \n",
       "\n",
       "                                             narrative  \\\n",
       "177  \"Wells Fargo is charging me an exorbitant amou...   \n",
       "186  \"I have filed several complaints against Wells...   \n",
       "188  \"Negative remark on my report that I don't rec...   \n",
       "189  \"On XX/XX/2016, this debt for {$160.00} appear...   \n",
       "195  \"My mortgage was with XXXX and was sold to Fla...   \n",
       "\n",
       "                                              pub_resp  \\\n",
       "177  Company has responded to the consumer and the ...   \n",
       "186  Company has responded to the consumer and the ...   \n",
       "188  Company has responded to the consumer and the ...   \n",
       "189  Company believes it acted appropriately as aut...   \n",
       "195  Company has responded to the consumer and the ...   \n",
       "\n",
       "                                       company state    zip           Tags  \\\n",
       "177                      WELLS FARGO & COMPANY    CA  90016            NaN   \n",
       "186                      WELLS FARGO & COMPANY    CA  90016            NaN   \n",
       "188  HCFS Health Care Financial Services, Inc.    FL  330XX  Servicemember   \n",
       "189                    Penn Credit Corporation    GA  302XX            NaN   \n",
       "195                         FLAGSTAR BANK, FSB    WA  983XX  Servicemember   \n",
       "\n",
       "              consent how_submit date_to_company                comp_resp  \\\n",
       "177  Consent provided        Web      01/11/2019  Closed with explanation   \n",
       "186  Consent provided        Web      01/11/2019  Closed with explanation   \n",
       "188  Consent provided        Web      01/11/2019  Closed with explanation   \n",
       "189  Consent provided        Web      01/11/2019  Closed with explanation   \n",
       "195  Consent provided        Web      01/11/2019  Closed with explanation   \n",
       "\n",
       "    timely_resp cons_disp       id  \n",
       "177         Yes       NaN  3122170  \n",
       "186         Yes       NaN  3122004  \n",
       "188         Yes       NaN  3122533  \n",
       "189         Yes       NaN  3122250  \n",
       "195         Yes       NaN  3122028  "
      ]
     },
     "execution_count": 3,
     "metadata": {},
     "output_type": "execute_result"
    }
   ],
   "source": [
    "nars.head()"
   ]
  },
  {
   "cell_type": "code",
   "execution_count": 4,
   "metadata": {},
   "outputs": [
    {
     "data": {
      "text/plain": [
       "(359209, 18)"
      ]
     },
     "execution_count": 4,
     "metadata": {},
     "output_type": "execute_result"
    }
   ],
   "source": [
    "nars.shape"
   ]
  },
  {
   "cell_type": "markdown",
   "metadata": {},
   "source": [
    "The first thing to do is look at the response variable in greater detail. We previously coded the response variable into three categories, yet one, \"untimely response\" does not really provide any actionable decision for a user. Additionally, there are very few responses that receive untimely responses (less than 1%), so we will remove these for consideration now."
   ]
  },
  {
   "cell_type": "code",
   "execution_count": 5,
   "metadata": {},
   "outputs": [
    {
     "data": {
      "text/plain": [
       "Closed with explanation            289812\n",
       "Closed with non-monetary relief     42580\n",
       "Closed with monetary relief         20566\n",
       "Closed                               3741\n",
       "Untimely response                    2506\n",
       "NaN                                     4\n",
       "Name: comp_resp, dtype: int64"
      ]
     },
     "execution_count": 5,
     "metadata": {},
     "output_type": "execute_result"
    }
   ],
   "source": [
    "nars['comp_resp'].value_counts(dropna=False)"
   ]
  },
  {
   "cell_type": "markdown",
   "metadata": {},
   "source": [
    "We'll recode these responses to three categories: closed, closed with relief, and untimely response. Additionally, we will remove any rows with missing data for now. "
   ]
  },
  {
   "cell_type": "code",
   "execution_count": 6,
   "metadata": {},
   "outputs": [
    {
     "data": {
      "text/plain": [
       "(359205, 18)"
      ]
     },
     "execution_count": 6,
     "metadata": {},
     "output_type": "execute_result"
    }
   ],
   "source": [
    "#first, remove missing\n",
    "nars=nars.dropna(subset=['comp_resp'])\n",
    "nars.shape"
   ]
  },
  {
   "cell_type": "code",
   "execution_count": 7,
   "metadata": {},
   "outputs": [],
   "source": [
    "#re-define response variable\n",
    "def response(series):\n",
    "    if series == 'Closed with explanation':\n",
    "        return 'closed'\n",
    "    elif series == 'Closed':\n",
    "        return 'closed'\n",
    "    elif series == 'Closed with non-monetary relief':\n",
    "        return 'relief'\n",
    "    elif series == 'Closed with monetary relief':\n",
    "        return 'relief'\n",
    "    elif series == 'Untimely response':\n",
    "        return 'late'\n",
    "    else:\n",
    "        return 'unknown'\n",
    "    \n",
    "nars['response']=nars['comp_resp'].apply(response)"
   ]
  },
  {
   "cell_type": "code",
   "execution_count": 8,
   "metadata": {},
   "outputs": [
    {
     "data": {
      "text/plain": [
       "(356699, 19)"
      ]
     },
     "execution_count": 8,
     "metadata": {},
     "output_type": "execute_result"
    }
   ],
   "source": [
    "#drop responses that are listed as late\n",
    "nars=nars[nars.response !='late']\n",
    "nars.shape"
   ]
  },
  {
   "cell_type": "markdown",
   "metadata": {},
   "source": [
    "# Getting the sentiment of texts"
   ]
  },
  {
   "cell_type": "markdown",
   "metadata": {},
   "source": [
    "We first need to get the sentiment of the texts as a meta-feature. We'll compute the polarity using this function, and assign negative complaints as -1, neutral complaints as 0, and positive complaints as 1."
   ]
  },
  {
   "cell_type": "code",
   "execution_count": 9,
   "metadata": {},
   "outputs": [],
   "source": [
    "from vaderSentiment.vaderSentiment import SentimentIntensityAnalyzer\n",
    "analyser = SentimentIntensityAnalyzer()\n",
    "\n",
    "def sentiment_analyzer_scores(text):\n",
    "    score = analyser.polarity_scores(text)\n",
    "    lb = score['compound']\n",
    "    if lb >= 0.05:\n",
    "        return 1\n",
    "    elif (lb > -0.05) and (lb < 0.05):\n",
    "        return 0\n",
    "    else:\n",
    "        return -1"
   ]
  },
  {
   "cell_type": "code",
   "execution_count": 11,
   "metadata": {},
   "outputs": [],
   "source": [
    "#need to loop through the narratives and get a score\n",
    "#first, subset narratives\n",
    "narratives=nars['narrative']\n",
    "\n",
    "sentiment=[]\n",
    "\n",
    "for i in narratives:\n",
    "    senti=sentiment_analyzer_scores(i)\n",
    "    sentiment.append(senti)"
   ]
  },
  {
   "cell_type": "code",
   "execution_count": 27,
   "metadata": {},
   "outputs": [
    {
     "data": {
      "text/plain": [
       "356699"
      ]
     },
     "execution_count": 27,
     "metadata": {},
     "output_type": "execute_result"
    }
   ],
   "source": [
    "len(sentiment)"
   ]
  },
  {
   "cell_type": "code",
   "execution_count": 52,
   "metadata": {},
   "outputs": [],
   "source": [
    "\n",
    "#sent_lis=pd.DataFrame(sentiment)\n",
    "#write sentiment to hard drive to read in and merge later\n",
    "#sent_lis.to_csv('sentiment_28jan.csv')\n",
    "#sent_lis.shape\n",
    "#sent_w_ids=pd.merge(ids,sent_lis,left_index=True)\n",
    "#sent_w_ids.shape"
   ]
  },
  {
   "cell_type": "markdown",
   "metadata": {},
   "source": [
    "# Getting the part of speech tags"
   ]
  },
  {
   "cell_type": "markdown",
   "metadata": {},
   "source": [
    "We also want the part-of-speech tags for each complaint. How many adjectives or nouns or whatever are present in each complaint?"
   ]
  },
  {
   "cell_type": "code",
   "execution_count": 15,
   "metadata": {},
   "outputs": [],
   "source": [
    "import spacy\n",
    "from collections import Counter\n",
    "nlp=spacy.load('en')\n",
    "\n",
    "def postag(text):\n",
    "    doc=nlp(text)\n",
    "    pos=[(i, i.pos_) for i in doc]\n",
    "    counts=Counter(tag for word, tag in pos)\n",
    "    return counts"
   ]
  },
  {
   "cell_type": "code",
   "execution_count": 16,
   "metadata": {},
   "outputs": [],
   "source": [
    "pos_sents=[]\n",
    "\n",
    "narratives=nars['narrative']\n",
    "\n",
    "for i in narratives:\n",
    "    tags=postag(i)\n",
    "    pos_sents.append(tags)  "
   ]
  },
  {
   "cell_type": "code",
   "execution_count": 35,
   "metadata": {},
   "outputs": [],
   "source": [
    "#part_of_speech=pd.DataFrame(pos_sents)\n",
    "#part_of_speech.head()\n",
    "#part_of_speech.shape\n",
    "#part_of_speech.to_csv('all_pos.csv')"
   ]
  },
  {
   "cell_type": "code",
   "execution_count": null,
   "metadata": {},
   "outputs": [],
   "source": [
    "len(pos_sents)"
   ]
  },
  {
   "cell_type": "code",
   "execution_count": 21,
   "metadata": {},
   "outputs": [
    {
     "data": {
      "text/plain": [
       "(157241, 36)"
      ]
     },
     "execution_count": 21,
     "metadata": {},
     "output_type": "execute_result"
    }
   ],
   "source": [
    "#nars_w_sent_pos=pd.merge(nars_w_sent,part_of_speech,left_index=True,right_index=True)\n",
    "#nars_w_sent_pos.to_csv(\"nars_senti_pos.csv\")"
   ]
  },
  {
   "cell_type": "markdown",
   "metadata": {},
   "source": [
    "# Functions to Clean Narrative Text"
   ]
  },
  {
   "cell_type": "markdown",
   "metadata": {},
   "source": [
    "Now that the data frame contains only the observations we are interested in considering further, we should now clean the text and derive features from it. We'll consider two sets of features: \"meta-features\" that describe the complaint and unigrams and bigrams that are featured in the complaint. \n",
    "\n",
    "The meta-features we will consider are the length of the complaint, in terms of the number of words, the number of sentences, and the average number of words per sentence. In addition to these descriptives, we will also consider the sentiment of the complaint and the different parts-of-speech in each complaint. \n",
    "\n",
    "We'll first derive the features about the length of the complaint."
   ]
  },
  {
   "cell_type": "code",
   "execution_count": 53,
   "metadata": {},
   "outputs": [],
   "source": [
    "#sentence tokenizer\n",
    "def sent_word_tok(text):\n",
    "    sents=nltk.sent_tokenize(text)\n",
    "    words=nltk.word_tokenize(text)\n",
    "    num_sents=len(sents)\n",
    "    num_words=len(words)\n",
    "    \n",
    "    if num_words == 0:\n",
    "        avg_word_sent == 0\n",
    "    else:\n",
    "        avg_word_sent = num_words/num_sents\n",
    "    return {'num_word': num_words, 'num_sent': num_sents, 'avg_words_sent': avg_word_sent}"
   ]
  },
  {
   "cell_type": "code",
   "execution_count": 54,
   "metadata": {},
   "outputs": [],
   "source": [
    "length=[]\n",
    "\n",
    "for i in narratives:\n",
    "    toks=sent_word_tok(i)\n",
    "    length.append(toks)"
   ]
  },
  {
   "cell_type": "code",
   "execution_count": 56,
   "metadata": {},
   "outputs": [],
   "source": [
    "sent_desc=pd.DataFrame(length)\n",
    "#sent_desc.to_csv('sent_desc_28jan.csv')"
   ]
  },
  {
   "cell_type": "code",
   "execution_count": 57,
   "metadata": {},
   "outputs": [],
   "source": [
    "#nars_w_sent_pos_len=pd.merge(nars_w_sent_pos,sent_desc,left_index=True,right_index=True)\n",
    "#nars_w_sent_pos_len.to_csv(\"nars_senti_pos_len.csv\")\n",
    "#nars_w_sent_pos_len.head()"
   ]
  },
  {
   "cell_type": "markdown",
   "metadata": {},
   "source": [
    "# Combine the derived features to train the models"
   ]
  },
  {
   "cell_type": "markdown",
   "metadata": {},
   "source": [
    "Now, will read in CSV files that were save to disk, and combine the derived features with the other data about the complaints. We first will read in the CSV files, merge them together, then merge with the main file containing information about the complaints. "
   ]
  },
  {
   "cell_type": "code",
   "execution_count": 9,
   "metadata": {},
   "outputs": [],
   "source": [
    "#read in csv files\n",
    "#sentiment\n",
    "sentiment_df=pd.read_csv('sentiment_28jan.csv',index_col=0)\n",
    "sentiment_df=sentiment_df.rename(columns={'0':'sentiment'})\n",
    "#part-of-speech tags\n",
    "pos_df=pd.read_csv('all_pos.csv',index_col=0)\n",
    "#length descriptions\n",
    "leng_df=pd.read_csv('sent_desc_28jan.csv',index_col=0)"
   ]
  },
  {
   "cell_type": "code",
   "execution_count": 10,
   "metadata": {},
   "outputs": [
    {
     "data": {
      "text/html": [
       "<div>\n",
       "<style scoped>\n",
       "    .dataframe tbody tr th:only-of-type {\n",
       "        vertical-align: middle;\n",
       "    }\n",
       "\n",
       "    .dataframe tbody tr th {\n",
       "        vertical-align: top;\n",
       "    }\n",
       "\n",
       "    .dataframe thead th {\n",
       "        text-align: right;\n",
       "    }\n",
       "</style>\n",
       "<table border=\"1\" class=\"dataframe\">\n",
       "  <thead>\n",
       "    <tr style=\"text-align: right;\">\n",
       "      <th></th>\n",
       "      <th>index</th>\n",
       "      <th>date_rec</th>\n",
       "      <th>prod</th>\n",
       "      <th>subprod</th>\n",
       "      <th>issue</th>\n",
       "      <th>sub_issue</th>\n",
       "      <th>narrative</th>\n",
       "      <th>pub_resp</th>\n",
       "      <th>company</th>\n",
       "      <th>state</th>\n",
       "      <th>...</th>\n",
       "      <th>PRON</th>\n",
       "      <th>PROPN</th>\n",
       "      <th>PUNCT</th>\n",
       "      <th>SPACE</th>\n",
       "      <th>SYM</th>\n",
       "      <th>VERB</th>\n",
       "      <th>X</th>\n",
       "      <th>avg_words_sent</th>\n",
       "      <th>num_sent</th>\n",
       "      <th>num_word</th>\n",
       "    </tr>\n",
       "  </thead>\n",
       "  <tbody>\n",
       "    <tr>\n",
       "      <th>0</th>\n",
       "      <td>177</td>\n",
       "      <td>01/11/2019</td>\n",
       "      <td>Mortgage</td>\n",
       "      <td>Conventional home mortgage</td>\n",
       "      <td>Applying for a mortgage or refinancing an exis...</td>\n",
       "      <td>NaN</td>\n",
       "      <td>\"Wells Fargo is charging me an exorbitant amou...</td>\n",
       "      <td>Company has responded to the consumer and the ...</td>\n",
       "      <td>WELLS FARGO &amp; COMPANY</td>\n",
       "      <td>CA</td>\n",
       "      <td>...</td>\n",
       "      <td>37.0</td>\n",
       "      <td>94.0</td>\n",
       "      <td>62</td>\n",
       "      <td>NaN</td>\n",
       "      <td>2.0</td>\n",
       "      <td>144.0</td>\n",
       "      <td>NaN</td>\n",
       "      <td>34.545455</td>\n",
       "      <td>22</td>\n",
       "      <td>760</td>\n",
       "    </tr>\n",
       "    <tr>\n",
       "      <th>1</th>\n",
       "      <td>186</td>\n",
       "      <td>01/11/2019</td>\n",
       "      <td>Mortgage</td>\n",
       "      <td>Conventional home mortgage</td>\n",
       "      <td>Applying for a mortgage or refinancing an exis...</td>\n",
       "      <td>NaN</td>\n",
       "      <td>\"I have filed several complaints against Wells...</td>\n",
       "      <td>Company has responded to the consumer and the ...</td>\n",
       "      <td>WELLS FARGO &amp; COMPANY</td>\n",
       "      <td>CA</td>\n",
       "      <td>...</td>\n",
       "      <td>7.0</td>\n",
       "      <td>27.0</td>\n",
       "      <td>26</td>\n",
       "      <td>NaN</td>\n",
       "      <td>1.0</td>\n",
       "      <td>38.0</td>\n",
       "      <td>NaN</td>\n",
       "      <td>30.125000</td>\n",
       "      <td>8</td>\n",
       "      <td>241</td>\n",
       "    </tr>\n",
       "    <tr>\n",
       "      <th>2</th>\n",
       "      <td>188</td>\n",
       "      <td>01/11/2019</td>\n",
       "      <td>Credit reporting, credit repair services, or o...</td>\n",
       "      <td>Credit reporting</td>\n",
       "      <td>Improper use of your report</td>\n",
       "      <td>Credit inquiries on your report that you don't...</td>\n",
       "      <td>\"Negative remark on my report that I don't rec...</td>\n",
       "      <td>Company has responded to the consumer and the ...</td>\n",
       "      <td>HCFS Health Care Financial Services, Inc.</td>\n",
       "      <td>FL</td>\n",
       "      <td>...</td>\n",
       "      <td>1.0</td>\n",
       "      <td>NaN</td>\n",
       "      <td>2</td>\n",
       "      <td>NaN</td>\n",
       "      <td>NaN</td>\n",
       "      <td>2.0</td>\n",
       "      <td>NaN</td>\n",
       "      <td>12.000000</td>\n",
       "      <td>1</td>\n",
       "      <td>12</td>\n",
       "    </tr>\n",
       "    <tr>\n",
       "      <th>3</th>\n",
       "      <td>189</td>\n",
       "      <td>01/11/2019</td>\n",
       "      <td>Debt collection</td>\n",
       "      <td>Other debt</td>\n",
       "      <td>Attempts to collect debt not owed</td>\n",
       "      <td>Debt is not yours</td>\n",
       "      <td>\"On XX/XX/2016, this debt for {$160.00} appear...</td>\n",
       "      <td>Company believes it acted appropriately as aut...</td>\n",
       "      <td>Penn Credit Corporation</td>\n",
       "      <td>GA</td>\n",
       "      <td>...</td>\n",
       "      <td>18.0</td>\n",
       "      <td>10.0</td>\n",
       "      <td>26</td>\n",
       "      <td>NaN</td>\n",
       "      <td>2.0</td>\n",
       "      <td>45.0</td>\n",
       "      <td>NaN</td>\n",
       "      <td>21.333333</td>\n",
       "      <td>12</td>\n",
       "      <td>256</td>\n",
       "    </tr>\n",
       "    <tr>\n",
       "      <th>4</th>\n",
       "      <td>195</td>\n",
       "      <td>01/11/2019</td>\n",
       "      <td>Mortgage</td>\n",
       "      <td>VA mortgage</td>\n",
       "      <td>Trouble during payment process</td>\n",
       "      <td>NaN</td>\n",
       "      <td>\"My mortgage was with XXXX and was sold to Fla...</td>\n",
       "      <td>Company has responded to the consumer and the ...</td>\n",
       "      <td>FLAGSTAR BANK, FSB</td>\n",
       "      <td>WA</td>\n",
       "      <td>...</td>\n",
       "      <td>22.0</td>\n",
       "      <td>5.0</td>\n",
       "      <td>19</td>\n",
       "      <td>1.0</td>\n",
       "      <td>NaN</td>\n",
       "      <td>48.0</td>\n",
       "      <td>NaN</td>\n",
       "      <td>22.444444</td>\n",
       "      <td>9</td>\n",
       "      <td>202</td>\n",
       "    </tr>\n",
       "  </tbody>\n",
       "</table>\n",
       "<p>5 rows × 40 columns</p>\n",
       "</div>"
      ],
      "text/plain": [
       "   index    date_rec                                               prod  \\\n",
       "0    177  01/11/2019                                           Mortgage   \n",
       "1    186  01/11/2019                                           Mortgage   \n",
       "2    188  01/11/2019  Credit reporting, credit repair services, or o...   \n",
       "3    189  01/11/2019                                    Debt collection   \n",
       "4    195  01/11/2019                                           Mortgage   \n",
       "\n",
       "                      subprod  \\\n",
       "0  Conventional home mortgage   \n",
       "1  Conventional home mortgage   \n",
       "2            Credit reporting   \n",
       "3                  Other debt   \n",
       "4                 VA mortgage   \n",
       "\n",
       "                                               issue  \\\n",
       "0  Applying for a mortgage or refinancing an exis...   \n",
       "1  Applying for a mortgage or refinancing an exis...   \n",
       "2                        Improper use of your report   \n",
       "3                  Attempts to collect debt not owed   \n",
       "4                     Trouble during payment process   \n",
       "\n",
       "                                           sub_issue  \\\n",
       "0                                                NaN   \n",
       "1                                                NaN   \n",
       "2  Credit inquiries on your report that you don't...   \n",
       "3                                  Debt is not yours   \n",
       "4                                                NaN   \n",
       "\n",
       "                                           narrative  \\\n",
       "0  \"Wells Fargo is charging me an exorbitant amou...   \n",
       "1  \"I have filed several complaints against Wells...   \n",
       "2  \"Negative remark on my report that I don't rec...   \n",
       "3  \"On XX/XX/2016, this debt for {$160.00} appear...   \n",
       "4  \"My mortgage was with XXXX and was sold to Fla...   \n",
       "\n",
       "                                            pub_resp  \\\n",
       "0  Company has responded to the consumer and the ...   \n",
       "1  Company has responded to the consumer and the ...   \n",
       "2  Company has responded to the consumer and the ...   \n",
       "3  Company believes it acted appropriately as aut...   \n",
       "4  Company has responded to the consumer and the ...   \n",
       "\n",
       "                                     company state   ...     PRON PROPN PUNCT  \\\n",
       "0                      WELLS FARGO & COMPANY    CA   ...     37.0  94.0    62   \n",
       "1                      WELLS FARGO & COMPANY    CA   ...      7.0  27.0    26   \n",
       "2  HCFS Health Care Financial Services, Inc.    FL   ...      1.0   NaN     2   \n",
       "3                    Penn Credit Corporation    GA   ...     18.0  10.0    26   \n",
       "4                         FLAGSTAR BANK, FSB    WA   ...     22.0   5.0    19   \n",
       "\n",
       "  SPACE  SYM   VERB   X avg_words_sent  num_sent num_word  \n",
       "0   NaN  2.0  144.0 NaN      34.545455        22      760  \n",
       "1   NaN  1.0   38.0 NaN      30.125000         8      241  \n",
       "2   NaN  NaN    2.0 NaN      12.000000         1       12  \n",
       "3   NaN  2.0   45.0 NaN      21.333333        12      256  \n",
       "4   1.0  NaN   48.0 NaN      22.444444         9      202  \n",
       "\n",
       "[5 rows x 40 columns]"
      ]
     },
     "execution_count": 10,
     "metadata": {},
     "output_type": "execute_result"
    }
   ],
   "source": [
    "#combine the data frames\n",
    "sent_and_pos=pd.merge(sentiment_df,pos_df,left_index=True,right_index=True)\n",
    "meta_all=pd.merge(sent_and_pos,leng_df,left_index=True,right_index=True)\n",
    "\n",
    "#create copy of nars so that everything works\n",
    "short_nars=nars.copy()\n",
    "short_nars=short_nars.reset_index()\n",
    "\n",
    "#combine the merged files with narratives together \n",
    "nars_meta=pd.merge(short_nars,meta_all,left_index=True,right_index=True)\n",
    "\n",
    "nars_meta.head()"
   ]
  },
  {
   "cell_type": "markdown",
   "metadata": {},
   "source": [
    "Now that meta-features have been derived, we need to get unigrams and bigrams that appear in the narratives. We will first clean the text and then generate a matrix representation."
   ]
  },
  {
   "cell_type": "code",
   "execution_count": 11,
   "metadata": {},
   "outputs": [],
   "source": [
    "from nltk.corpus import stopwords\n",
    "stop = stopwords.words('english')\n",
    "\n",
    "def standardize_text(df,text_field):\n",
    "    df[text_field] = df[text_field].str.replace(r\"http\\S+\", \"\")\n",
    "    df[text_field] = df[text_field].str.replace(r\"http\", \"\")\n",
    "    df[text_field] = df[text_field].str.replace(r\"@\\S+\", \"\")\n",
    "    df[text_field] = df[text_field].str.replace(r\"[^A-Za-z0-9(),!?@\\'\\`\\\"\\_\\n]\", \" \")\n",
    "    df[text_field] = df[text_field].str.replace(r\"@\", \"at\")\n",
    "    df[text_field] = df[text_field].str.replace(r\"\\\"\", \"\")\n",
    "    df[text_field] = df[text_field].str.lower()\n",
    "    df[text_field] = df[text_field].apply(lambda x: ' '.join([word for word in x.split() if word not in (stop)]))\n",
    "    return df"
   ]
  },
  {
   "cell_type": "code",
   "execution_count": 12,
   "metadata": {},
   "outputs": [],
   "source": [
    "nars_meta = standardize_text(nars_meta, \"narrative\")"
   ]
  },
  {
   "cell_type": "code",
   "execution_count": 13,
   "metadata": {},
   "outputs": [
    {
     "data": {
      "text/html": [
       "<div>\n",
       "<style scoped>\n",
       "    .dataframe tbody tr th:only-of-type {\n",
       "        vertical-align: middle;\n",
       "    }\n",
       "\n",
       "    .dataframe tbody tr th {\n",
       "        vertical-align: top;\n",
       "    }\n",
       "\n",
       "    .dataframe thead th {\n",
       "        text-align: right;\n",
       "    }\n",
       "</style>\n",
       "<table border=\"1\" class=\"dataframe\">\n",
       "  <thead>\n",
       "    <tr style=\"text-align: right;\">\n",
       "      <th></th>\n",
       "      <th>index</th>\n",
       "      <th>date_rec</th>\n",
       "      <th>prod</th>\n",
       "      <th>subprod</th>\n",
       "      <th>issue</th>\n",
       "      <th>sub_issue</th>\n",
       "      <th>narrative</th>\n",
       "      <th>pub_resp</th>\n",
       "      <th>company</th>\n",
       "      <th>state</th>\n",
       "      <th>...</th>\n",
       "      <th>PRON</th>\n",
       "      <th>PROPN</th>\n",
       "      <th>PUNCT</th>\n",
       "      <th>SPACE</th>\n",
       "      <th>SYM</th>\n",
       "      <th>VERB</th>\n",
       "      <th>X</th>\n",
       "      <th>avg_words_sent</th>\n",
       "      <th>num_sent</th>\n",
       "      <th>num_word</th>\n",
       "    </tr>\n",
       "  </thead>\n",
       "  <tbody>\n",
       "    <tr>\n",
       "      <th>0</th>\n",
       "      <td>177</td>\n",
       "      <td>01/11/2019</td>\n",
       "      <td>Mortgage</td>\n",
       "      <td>Conventional home mortgage</td>\n",
       "      <td>Applying for a mortgage or refinancing an exis...</td>\n",
       "      <td>NaN</td>\n",
       "      <td>wells fargo charging exorbitant amount fees at...</td>\n",
       "      <td>Company has responded to the consumer and the ...</td>\n",
       "      <td>WELLS FARGO &amp; COMPANY</td>\n",
       "      <td>CA</td>\n",
       "      <td>...</td>\n",
       "      <td>37.0</td>\n",
       "      <td>94.0</td>\n",
       "      <td>62</td>\n",
       "      <td>NaN</td>\n",
       "      <td>2.0</td>\n",
       "      <td>144.0</td>\n",
       "      <td>NaN</td>\n",
       "      <td>34.545455</td>\n",
       "      <td>22</td>\n",
       "      <td>760</td>\n",
       "    </tr>\n",
       "    <tr>\n",
       "      <th>1</th>\n",
       "      <td>186</td>\n",
       "      <td>01/11/2019</td>\n",
       "      <td>Mortgage</td>\n",
       "      <td>Conventional home mortgage</td>\n",
       "      <td>Applying for a mortgage or refinancing an exis...</td>\n",
       "      <td>NaN</td>\n",
       "      <td>filed several complaints wells fargo, opposing...</td>\n",
       "      <td>Company has responded to the consumer and the ...</td>\n",
       "      <td>WELLS FARGO &amp; COMPANY</td>\n",
       "      <td>CA</td>\n",
       "      <td>...</td>\n",
       "      <td>7.0</td>\n",
       "      <td>27.0</td>\n",
       "      <td>26</td>\n",
       "      <td>NaN</td>\n",
       "      <td>1.0</td>\n",
       "      <td>38.0</td>\n",
       "      <td>NaN</td>\n",
       "      <td>30.125000</td>\n",
       "      <td>8</td>\n",
       "      <td>241</td>\n",
       "    </tr>\n",
       "    <tr>\n",
       "      <th>2</th>\n",
       "      <td>188</td>\n",
       "      <td>01/11/2019</td>\n",
       "      <td>Credit reporting, credit repair services, or o...</td>\n",
       "      <td>Credit reporting</td>\n",
       "      <td>Improper use of your report</td>\n",
       "      <td>Credit inquiries on your report that you don't...</td>\n",
       "      <td>negative remark report recognize</td>\n",
       "      <td>Company has responded to the consumer and the ...</td>\n",
       "      <td>HCFS Health Care Financial Services, Inc.</td>\n",
       "      <td>FL</td>\n",
       "      <td>...</td>\n",
       "      <td>1.0</td>\n",
       "      <td>NaN</td>\n",
       "      <td>2</td>\n",
       "      <td>NaN</td>\n",
       "      <td>NaN</td>\n",
       "      <td>2.0</td>\n",
       "      <td>NaN</td>\n",
       "      <td>12.000000</td>\n",
       "      <td>1</td>\n",
       "      <td>12</td>\n",
       "    </tr>\n",
       "    <tr>\n",
       "      <th>3</th>\n",
       "      <td>189</td>\n",
       "      <td>01/11/2019</td>\n",
       "      <td>Debt collection</td>\n",
       "      <td>Other debt</td>\n",
       "      <td>Attempts to collect debt not owed</td>\n",
       "      <td>Debt is not yours</td>\n",
       "      <td>xx xx 2016, debt 160 00 appeared credit report...</td>\n",
       "      <td>Company believes it acted appropriately as aut...</td>\n",
       "      <td>Penn Credit Corporation</td>\n",
       "      <td>GA</td>\n",
       "      <td>...</td>\n",
       "      <td>18.0</td>\n",
       "      <td>10.0</td>\n",
       "      <td>26</td>\n",
       "      <td>NaN</td>\n",
       "      <td>2.0</td>\n",
       "      <td>45.0</td>\n",
       "      <td>NaN</td>\n",
       "      <td>21.333333</td>\n",
       "      <td>12</td>\n",
       "      <td>256</td>\n",
       "    </tr>\n",
       "    <tr>\n",
       "      <th>4</th>\n",
       "      <td>195</td>\n",
       "      <td>01/11/2019</td>\n",
       "      <td>Mortgage</td>\n",
       "      <td>VA mortgage</td>\n",
       "      <td>Trouble during payment process</td>\n",
       "      <td>NaN</td>\n",
       "      <td>mortgage xxxx sold flagstar tried process firs...</td>\n",
       "      <td>Company has responded to the consumer and the ...</td>\n",
       "      <td>FLAGSTAR BANK, FSB</td>\n",
       "      <td>WA</td>\n",
       "      <td>...</td>\n",
       "      <td>22.0</td>\n",
       "      <td>5.0</td>\n",
       "      <td>19</td>\n",
       "      <td>1.0</td>\n",
       "      <td>NaN</td>\n",
       "      <td>48.0</td>\n",
       "      <td>NaN</td>\n",
       "      <td>22.444444</td>\n",
       "      <td>9</td>\n",
       "      <td>202</td>\n",
       "    </tr>\n",
       "  </tbody>\n",
       "</table>\n",
       "<p>5 rows × 40 columns</p>\n",
       "</div>"
      ],
      "text/plain": [
       "   index    date_rec                                               prod  \\\n",
       "0    177  01/11/2019                                           Mortgage   \n",
       "1    186  01/11/2019                                           Mortgage   \n",
       "2    188  01/11/2019  Credit reporting, credit repair services, or o...   \n",
       "3    189  01/11/2019                                    Debt collection   \n",
       "4    195  01/11/2019                                           Mortgage   \n",
       "\n",
       "                      subprod  \\\n",
       "0  Conventional home mortgage   \n",
       "1  Conventional home mortgage   \n",
       "2            Credit reporting   \n",
       "3                  Other debt   \n",
       "4                 VA mortgage   \n",
       "\n",
       "                                               issue  \\\n",
       "0  Applying for a mortgage or refinancing an exis...   \n",
       "1  Applying for a mortgage or refinancing an exis...   \n",
       "2                        Improper use of your report   \n",
       "3                  Attempts to collect debt not owed   \n",
       "4                     Trouble during payment process   \n",
       "\n",
       "                                           sub_issue  \\\n",
       "0                                                NaN   \n",
       "1                                                NaN   \n",
       "2  Credit inquiries on your report that you don't...   \n",
       "3                                  Debt is not yours   \n",
       "4                                                NaN   \n",
       "\n",
       "                                           narrative  \\\n",
       "0  wells fargo charging exorbitant amount fees at...   \n",
       "1  filed several complaints wells fargo, opposing...   \n",
       "2                   negative remark report recognize   \n",
       "3  xx xx 2016, debt 160 00 appeared credit report...   \n",
       "4  mortgage xxxx sold flagstar tried process firs...   \n",
       "\n",
       "                                            pub_resp  \\\n",
       "0  Company has responded to the consumer and the ...   \n",
       "1  Company has responded to the consumer and the ...   \n",
       "2  Company has responded to the consumer and the ...   \n",
       "3  Company believes it acted appropriately as aut...   \n",
       "4  Company has responded to the consumer and the ...   \n",
       "\n",
       "                                     company state   ...     PRON PROPN PUNCT  \\\n",
       "0                      WELLS FARGO & COMPANY    CA   ...     37.0  94.0    62   \n",
       "1                      WELLS FARGO & COMPANY    CA   ...      7.0  27.0    26   \n",
       "2  HCFS Health Care Financial Services, Inc.    FL   ...      1.0   NaN     2   \n",
       "3                    Penn Credit Corporation    GA   ...     18.0  10.0    26   \n",
       "4                         FLAGSTAR BANK, FSB    WA   ...     22.0   5.0    19   \n",
       "\n",
       "  SPACE  SYM   VERB   X avg_words_sent  num_sent num_word  \n",
       "0   NaN  2.0  144.0 NaN      34.545455        22      760  \n",
       "1   NaN  1.0   38.0 NaN      30.125000         8      241  \n",
       "2   NaN  NaN    2.0 NaN      12.000000         1       12  \n",
       "3   NaN  2.0   45.0 NaN      21.333333        12      256  \n",
       "4   1.0  NaN   48.0 NaN      22.444444         9      202  \n",
       "\n",
       "[5 rows x 40 columns]"
      ]
     },
     "execution_count": 13,
     "metadata": {},
     "output_type": "execute_result"
    }
   ],
   "source": [
    "nars_meta.head()"
   ]
  },
  {
   "cell_type": "code",
   "execution_count": 14,
   "metadata": {},
   "outputs": [],
   "source": [
    "#write the cleaned text to a csv\n",
    "nars_meta.to_csv(\"nars_clean_meta_28jan.csv\")"
   ]
  }
 ],
 "metadata": {
  "kernelspec": {
   "display_name": "Python 3",
   "language": "python",
   "name": "python3"
  },
  "language_info": {
   "codemirror_mode": {
    "name": "ipython",
    "version": 3
   },
   "file_extension": ".py",
   "mimetype": "text/x-python",
   "name": "python",
   "nbconvert_exporter": "python",
   "pygments_lexer": "ipython3",
   "version": "3.6.8"
  }
 },
 "nbformat": 4,
 "nbformat_minor": 2
}
